{
 "cells": [
  {
   "cell_type": "code",
   "execution_count": 1,
   "id": "fc5b13ac",
   "metadata": {
    "_cell_guid": "b1076dfc-b9ad-4769-8c92-a6c4dae69d19",
    "_uuid": "8f2839f25d086af736a60e9eeb907d3b93b6e0e5",
    "execution": {
     "iopub.execute_input": "2023-06-16T12:57:54.183259Z",
     "iopub.status.busy": "2023-06-16T12:57:54.182778Z",
     "iopub.status.idle": "2023-06-16T12:58:05.638964Z",
     "shell.execute_reply": "2023-06-16T12:58:05.637215Z"
    },
    "papermill": {
     "duration": 11.469909,
     "end_time": "2023-06-16T12:58:05.642216",
     "exception": false,
     "start_time": "2023-06-16T12:57:54.172307",
     "status": "completed"
    },
    "tags": []
   },
   "outputs": [
    {
     "name": "stderr",
     "output_type": "stream",
     "text": [
      "/opt/conda/lib/python3.10/site-packages/tensorflow_io/python/ops/__init__.py:98: UserWarning: unable to load libtensorflow_io_plugins.so: unable to open file: libtensorflow_io_plugins.so, from paths: ['/opt/conda/lib/python3.10/site-packages/tensorflow_io/python/ops/libtensorflow_io_plugins.so']\n",
      "caused by: ['/opt/conda/lib/python3.10/site-packages/tensorflow_io/python/ops/libtensorflow_io_plugins.so: undefined symbol: _ZN3tsl6StatusC1EN10tensorflow5error4CodeESt17basic_string_viewIcSt11char_traitsIcEENS_14SourceLocationE']\n",
      "  warnings.warn(f\"unable to load libtensorflow_io_plugins.so: {e}\")\n",
      "/opt/conda/lib/python3.10/site-packages/tensorflow_io/python/ops/__init__.py:104: UserWarning: file system plugins are not loaded: unable to open file: libtensorflow_io.so, from paths: ['/opt/conda/lib/python3.10/site-packages/tensorflow_io/python/ops/libtensorflow_io.so']\n",
      "caused by: ['/opt/conda/lib/python3.10/site-packages/tensorflow_io/python/ops/libtensorflow_io.so: undefined symbol: _ZTVN10tensorflow13GcsFileSystemE']\n",
      "  warnings.warn(f\"file system plugins are not loaded: {e}\")\n"
     ]
    }
   ],
   "source": [
    "import pandas as pd\n",
    "import numpy as np\n",
    "import matplotlib.pyplot as plt\n",
    "from PIL import Image\n",
    "from glob import glob\n",
    "import os\n",
    "import keras\n",
    "from keras.models import Sequential\n",
    "from keras import layers\n",
    "from sklearn.preprocessing import LabelEncoder\n",
    "from sklearn.model_selection import train_test_split\n",
    "from sklearn.utils import resample\n",
    "from keras.utils.vis_utils import plot_model"
   ]
  },
  {
   "cell_type": "code",
   "execution_count": 2,
   "id": "aa9e98f4",
   "metadata": {
    "execution": {
     "iopub.execute_input": "2023-06-16T12:58:05.662015Z",
     "iopub.status.busy": "2023-06-16T12:58:05.661086Z",
     "iopub.status.idle": "2023-06-16T12:58:05.765571Z",
     "shell.execute_reply": "2023-06-16T12:58:05.764038Z"
    },
    "papermill": {
     "duration": 0.117754,
     "end_time": "2023-06-16T12:58:05.768487",
     "exception": false,
     "start_time": "2023-06-16T12:58:05.650733",
     "status": "completed"
    },
    "tags": []
   },
   "outputs": [
    {
     "data": {
      "text/html": [
       "<div>\n",
       "<style scoped>\n",
       "    .dataframe tbody tr th:only-of-type {\n",
       "        vertical-align: middle;\n",
       "    }\n",
       "\n",
       "    .dataframe tbody tr th {\n",
       "        vertical-align: top;\n",
       "    }\n",
       "\n",
       "    .dataframe thead th {\n",
       "        text-align: right;\n",
       "    }\n",
       "</style>\n",
       "<table border=\"1\" class=\"dataframe\">\n",
       "  <thead>\n",
       "    <tr style=\"text-align: right;\">\n",
       "      <th></th>\n",
       "      <th>lesion_id</th>\n",
       "      <th>image_id</th>\n",
       "      <th>dx</th>\n",
       "      <th>dx_type</th>\n",
       "      <th>age</th>\n",
       "      <th>sex</th>\n",
       "      <th>localization</th>\n",
       "    </tr>\n",
       "  </thead>\n",
       "  <tbody>\n",
       "    <tr>\n",
       "      <th>0</th>\n",
       "      <td>HAM_0000118</td>\n",
       "      <td>ISIC_0027419</td>\n",
       "      <td>bkl</td>\n",
       "      <td>histo</td>\n",
       "      <td>80.0</td>\n",
       "      <td>male</td>\n",
       "      <td>scalp</td>\n",
       "    </tr>\n",
       "    <tr>\n",
       "      <th>1</th>\n",
       "      <td>HAM_0000118</td>\n",
       "      <td>ISIC_0025030</td>\n",
       "      <td>bkl</td>\n",
       "      <td>histo</td>\n",
       "      <td>80.0</td>\n",
       "      <td>male</td>\n",
       "      <td>scalp</td>\n",
       "    </tr>\n",
       "    <tr>\n",
       "      <th>2</th>\n",
       "      <td>HAM_0002730</td>\n",
       "      <td>ISIC_0026769</td>\n",
       "      <td>bkl</td>\n",
       "      <td>histo</td>\n",
       "      <td>80.0</td>\n",
       "      <td>male</td>\n",
       "      <td>scalp</td>\n",
       "    </tr>\n",
       "    <tr>\n",
       "      <th>3</th>\n",
       "      <td>HAM_0002730</td>\n",
       "      <td>ISIC_0025661</td>\n",
       "      <td>bkl</td>\n",
       "      <td>histo</td>\n",
       "      <td>80.0</td>\n",
       "      <td>male</td>\n",
       "      <td>scalp</td>\n",
       "    </tr>\n",
       "    <tr>\n",
       "      <th>4</th>\n",
       "      <td>HAM_0001466</td>\n",
       "      <td>ISIC_0031633</td>\n",
       "      <td>bkl</td>\n",
       "      <td>histo</td>\n",
       "      <td>75.0</td>\n",
       "      <td>male</td>\n",
       "      <td>ear</td>\n",
       "    </tr>\n",
       "    <tr>\n",
       "      <th>...</th>\n",
       "      <td>...</td>\n",
       "      <td>...</td>\n",
       "      <td>...</td>\n",
       "      <td>...</td>\n",
       "      <td>...</td>\n",
       "      <td>...</td>\n",
       "      <td>...</td>\n",
       "    </tr>\n",
       "    <tr>\n",
       "      <th>10010</th>\n",
       "      <td>HAM_0002867</td>\n",
       "      <td>ISIC_0033084</td>\n",
       "      <td>akiec</td>\n",
       "      <td>histo</td>\n",
       "      <td>40.0</td>\n",
       "      <td>male</td>\n",
       "      <td>abdomen</td>\n",
       "    </tr>\n",
       "    <tr>\n",
       "      <th>10011</th>\n",
       "      <td>HAM_0002867</td>\n",
       "      <td>ISIC_0033550</td>\n",
       "      <td>akiec</td>\n",
       "      <td>histo</td>\n",
       "      <td>40.0</td>\n",
       "      <td>male</td>\n",
       "      <td>abdomen</td>\n",
       "    </tr>\n",
       "    <tr>\n",
       "      <th>10012</th>\n",
       "      <td>HAM_0002867</td>\n",
       "      <td>ISIC_0033536</td>\n",
       "      <td>akiec</td>\n",
       "      <td>histo</td>\n",
       "      <td>40.0</td>\n",
       "      <td>male</td>\n",
       "      <td>abdomen</td>\n",
       "    </tr>\n",
       "    <tr>\n",
       "      <th>10013</th>\n",
       "      <td>HAM_0000239</td>\n",
       "      <td>ISIC_0032854</td>\n",
       "      <td>akiec</td>\n",
       "      <td>histo</td>\n",
       "      <td>80.0</td>\n",
       "      <td>male</td>\n",
       "      <td>face</td>\n",
       "    </tr>\n",
       "    <tr>\n",
       "      <th>10014</th>\n",
       "      <td>HAM_0003521</td>\n",
       "      <td>ISIC_0032258</td>\n",
       "      <td>mel</td>\n",
       "      <td>histo</td>\n",
       "      <td>70.0</td>\n",
       "      <td>female</td>\n",
       "      <td>back</td>\n",
       "    </tr>\n",
       "  </tbody>\n",
       "</table>\n",
       "<p>10015 rows × 7 columns</p>\n",
       "</div>"
      ],
      "text/plain": [
       "         lesion_id      image_id     dx dx_type   age     sex localization\n",
       "0      HAM_0000118  ISIC_0027419    bkl   histo  80.0    male        scalp\n",
       "1      HAM_0000118  ISIC_0025030    bkl   histo  80.0    male        scalp\n",
       "2      HAM_0002730  ISIC_0026769    bkl   histo  80.0    male        scalp\n",
       "3      HAM_0002730  ISIC_0025661    bkl   histo  80.0    male        scalp\n",
       "4      HAM_0001466  ISIC_0031633    bkl   histo  75.0    male          ear\n",
       "...            ...           ...    ...     ...   ...     ...          ...\n",
       "10010  HAM_0002867  ISIC_0033084  akiec   histo  40.0    male      abdomen\n",
       "10011  HAM_0002867  ISIC_0033550  akiec   histo  40.0    male      abdomen\n",
       "10012  HAM_0002867  ISIC_0033536  akiec   histo  40.0    male      abdomen\n",
       "10013  HAM_0000239  ISIC_0032854  akiec   histo  80.0    male         face\n",
       "10014  HAM_0003521  ISIC_0032258    mel   histo  70.0  female         back\n",
       "\n",
       "[10015 rows x 7 columns]"
      ]
     },
     "execution_count": 2,
     "metadata": {},
     "output_type": "execute_result"
    }
   ],
   "source": [
    "csv = pd.read_csv(\"/kaggle/input/skin-cancer-mnist-ham10000/HAM10000_metadata.csv\")\n",
    "csv"
   ]
  },
  {
   "cell_type": "code",
   "execution_count": 3,
   "id": "edde606b",
   "metadata": {
    "execution": {
     "iopub.execute_input": "2023-06-16T12:58:05.788461Z",
     "iopub.status.busy": "2023-06-16T12:58:05.787612Z",
     "iopub.status.idle": "2023-06-16T12:58:05.794619Z",
     "shell.execute_reply": "2023-06-16T12:58:05.793414Z"
    },
    "papermill": {
     "duration": 0.020107,
     "end_time": "2023-06-16T12:58:05.797301",
     "exception": false,
     "start_time": "2023-06-16T12:58:05.777194",
     "status": "completed"
    },
    "tags": []
   },
   "outputs": [
    {
     "name": "stdout",
     "output_type": "stream",
     "text": [
      "['akiec' 'bcc' 'bkl' 'df' 'mel' 'nv' 'vasc']\n"
     ]
    }
   ],
   "source": [
    "label_encoder = LabelEncoder()\n",
    "label_encoder.fit(csv['dx'])\n",
    "LabelEncoder()\n",
    "print(label_encoder.classes_)\n"
   ]
  },
  {
   "cell_type": "markdown",
   "id": "d4a78652",
   "metadata": {
    "papermill": {
     "duration": 0.008248,
     "end_time": "2023-06-16T12:58:05.814168",
     "exception": false,
     "start_time": "2023-06-16T12:58:05.805920",
     "status": "completed"
    },
    "tags": []
   },
   "source": []
  },
  {
   "cell_type": "code",
   "execution_count": 4,
   "id": "7b69d833",
   "metadata": {
    "execution": {
     "iopub.execute_input": "2023-06-16T12:58:05.835744Z",
     "iopub.status.busy": "2023-06-16T12:58:05.835299Z",
     "iopub.status.idle": "2023-06-16T12:58:05.860374Z",
     "shell.execute_reply": "2023-06-16T12:58:05.859457Z"
    },
    "papermill": {
     "duration": 0.038046,
     "end_time": "2023-06-16T12:58:05.862850",
     "exception": false,
     "start_time": "2023-06-16T12:58:05.824804",
     "status": "completed"
    },
    "tags": []
   },
   "outputs": [
    {
     "data": {
      "text/html": [
       "<div>\n",
       "<style scoped>\n",
       "    .dataframe tbody tr th:only-of-type {\n",
       "        vertical-align: middle;\n",
       "    }\n",
       "\n",
       "    .dataframe tbody tr th {\n",
       "        vertical-align: top;\n",
       "    }\n",
       "\n",
       "    .dataframe thead th {\n",
       "        text-align: right;\n",
       "    }\n",
       "</style>\n",
       "<table border=\"1\" class=\"dataframe\">\n",
       "  <thead>\n",
       "    <tr style=\"text-align: right;\">\n",
       "      <th></th>\n",
       "      <th>lesion_id</th>\n",
       "      <th>image_id</th>\n",
       "      <th>dx</th>\n",
       "      <th>dx_type</th>\n",
       "      <th>age</th>\n",
       "      <th>sex</th>\n",
       "      <th>localization</th>\n",
       "    </tr>\n",
       "  </thead>\n",
       "  <tbody>\n",
       "    <tr>\n",
       "      <th>4536</th>\n",
       "      <td>HAM_0002636</td>\n",
       "      <td>ISIC_0031782</td>\n",
       "      <td>5</td>\n",
       "      <td>follow_up</td>\n",
       "      <td>45.0</td>\n",
       "      <td>female</td>\n",
       "      <td>trunk</td>\n",
       "    </tr>\n",
       "    <tr>\n",
       "      <th>240</th>\n",
       "      <td>HAM_0003659</td>\n",
       "      <td>ISIC_0033676</td>\n",
       "      <td>2</td>\n",
       "      <td>histo</td>\n",
       "      <td>85.0</td>\n",
       "      <td>male</td>\n",
       "      <td>upper extremity</td>\n",
       "    </tr>\n",
       "    <tr>\n",
       "      <th>300</th>\n",
       "      <td>HAM_0004114</td>\n",
       "      <td>ISIC_0026844</td>\n",
       "      <td>2</td>\n",
       "      <td>histo</td>\n",
       "      <td>75.0</td>\n",
       "      <td>male</td>\n",
       "      <td>back</td>\n",
       "    </tr>\n",
       "    <tr>\n",
       "      <th>5412</th>\n",
       "      <td>HAM_0005709</td>\n",
       "      <td>ISIC_0028569</td>\n",
       "      <td>5</td>\n",
       "      <td>follow_up</td>\n",
       "      <td>70.0</td>\n",
       "      <td>male</td>\n",
       "      <td>lower extremity</td>\n",
       "    </tr>\n",
       "    <tr>\n",
       "      <th>9126</th>\n",
       "      <td>HAM_0002936</td>\n",
       "      <td>ISIC_0024380</td>\n",
       "      <td>5</td>\n",
       "      <td>histo</td>\n",
       "      <td>60.0</td>\n",
       "      <td>male</td>\n",
       "      <td>back</td>\n",
       "    </tr>\n",
       "    <tr>\n",
       "      <th>5526</th>\n",
       "      <td>HAM_0002315</td>\n",
       "      <td>ISIC_0028312</td>\n",
       "      <td>5</td>\n",
       "      <td>follow_up</td>\n",
       "      <td>50.0</td>\n",
       "      <td>male</td>\n",
       "      <td>abdomen</td>\n",
       "    </tr>\n",
       "    <tr>\n",
       "      <th>7440</th>\n",
       "      <td>HAM_0000747</td>\n",
       "      <td>ISIC_0034319</td>\n",
       "      <td>5</td>\n",
       "      <td>histo</td>\n",
       "      <td>30.0</td>\n",
       "      <td>male</td>\n",
       "      <td>trunk</td>\n",
       "    </tr>\n",
       "    <tr>\n",
       "      <th>6511</th>\n",
       "      <td>HAM_0007411</td>\n",
       "      <td>ISIC_0028444</td>\n",
       "      <td>5</td>\n",
       "      <td>follow_up</td>\n",
       "      <td>70.0</td>\n",
       "      <td>male</td>\n",
       "      <td>abdomen</td>\n",
       "    </tr>\n",
       "    <tr>\n",
       "      <th>9494</th>\n",
       "      <td>HAM_0005062</td>\n",
       "      <td>ISIC_0033617</td>\n",
       "      <td>5</td>\n",
       "      <td>consensus</td>\n",
       "      <td>70.0</td>\n",
       "      <td>female</td>\n",
       "      <td>back</td>\n",
       "    </tr>\n",
       "    <tr>\n",
       "      <th>6102</th>\n",
       "      <td>HAM_0001233</td>\n",
       "      <td>ISIC_0029110</td>\n",
       "      <td>5</td>\n",
       "      <td>follow_up</td>\n",
       "      <td>35.0</td>\n",
       "      <td>male</td>\n",
       "      <td>upper extremity</td>\n",
       "    </tr>\n",
       "  </tbody>\n",
       "</table>\n",
       "</div>"
      ],
      "text/plain": [
       "        lesion_id      image_id  dx    dx_type   age     sex     localization\n",
       "4536  HAM_0002636  ISIC_0031782   5  follow_up  45.0  female            trunk\n",
       "240   HAM_0003659  ISIC_0033676   2      histo  85.0    male  upper extremity\n",
       "300   HAM_0004114  ISIC_0026844   2      histo  75.0    male             back\n",
       "5412  HAM_0005709  ISIC_0028569   5  follow_up  70.0    male  lower extremity\n",
       "9126  HAM_0002936  ISIC_0024380   5      histo  60.0    male             back\n",
       "5526  HAM_0002315  ISIC_0028312   5  follow_up  50.0    male          abdomen\n",
       "7440  HAM_0000747  ISIC_0034319   5      histo  30.0    male            trunk\n",
       "6511  HAM_0007411  ISIC_0028444   5  follow_up  70.0    male          abdomen\n",
       "9494  HAM_0005062  ISIC_0033617   5  consensus  70.0  female             back\n",
       "6102  HAM_0001233  ISIC_0029110   5  follow_up  35.0    male  upper extremity"
      ]
     },
     "execution_count": 4,
     "metadata": {},
     "output_type": "execute_result"
    }
   ],
   "source": [
    "csv['dx'] = label_encoder.transform(csv['dx'])\n",
    "csv.sample(10)"
   ]
  },
  {
   "cell_type": "code",
   "execution_count": 5,
   "id": "e7fc02da",
   "metadata": {
    "execution": {
     "iopub.execute_input": "2023-06-16T12:58:05.884287Z",
     "iopub.status.busy": "2023-06-16T12:58:05.883604Z",
     "iopub.status.idle": "2023-06-16T12:58:06.328591Z",
     "shell.execute_reply": "2023-06-16T12:58:06.327492Z"
    },
    "papermill": {
     "duration": 0.458333,
     "end_time": "2023-06-16T12:58:06.331202",
     "exception": false,
     "start_time": "2023-06-16T12:58:05.872869",
     "status": "completed"
    },
    "tags": []
   },
   "outputs": [
    {
     "data": {
      "image/png": "[encoded data removed]",
      "text/plain": [
       "<Figure size 1500x1000 with 1 Axes>"
      ]
     },
     "metadata": {},
     "output_type": "display_data"
    }
   ],
   "source": [
    "fig = plt.figure(figsize = (15,10))\n",
    "ax1 = fig.add_subplot()\n",
    "csv['dx'].value_counts().plot(kind = 'bar')\n",
    "ax1.set_ylabel('No. of records')\n",
    "plt.show()"
   ]
  },
  {
   "cell_type": "code",
   "execution_count": 6,
   "id": "5f7da288",
   "metadata": {
    "execution": {
     "iopub.execute_input": "2023-06-16T12:58:06.351388Z",
     "iopub.status.busy": "2023-06-16T12:58:06.350977Z",
     "iopub.status.idle": "2023-06-16T12:58:06.360437Z",
     "shell.execute_reply": "2023-06-16T12:58:06.359169Z"
    },
    "papermill": {
     "duration": 0.02219,
     "end_time": "2023-06-16T12:58:06.362649",
     "exception": false,
     "start_time": "2023-06-16T12:58:06.340459",
     "status": "completed"
    },
    "tags": []
   },
   "outputs": [
    {
     "data": {
      "text/plain": [
       "5    6705\n",
       "4    1113\n",
       "2    1099\n",
       "1     514\n",
       "0     327\n",
       "6     142\n",
       "3     115\n",
       "Name: dx, dtype: int64"
      ]
     },
     "execution_count": 6,
     "metadata": {},
     "output_type": "execute_result"
    }
   ],
   "source": [
    "csv['dx'].value_counts()"
   ]
  },
  {
   "cell_type": "code",
   "execution_count": 7,
   "id": "1ddbc7dc",
   "metadata": {
    "execution": {
     "iopub.execute_input": "2023-06-16T12:58:06.383337Z",
     "iopub.status.busy": "2023-06-16T12:58:06.382281Z",
     "iopub.status.idle": "2023-06-16T12:58:06.411043Z",
     "shell.execute_reply": "2023-06-16T12:58:06.409989Z"
    },
    "papermill": {
     "duration": 0.041799,
     "end_time": "2023-06-16T12:58:06.413646",
     "exception": false,
     "start_time": "2023-06-16T12:58:06.371847",
     "status": "completed"
    },
    "tags": []
   },
   "outputs": [
    {
     "data": {
      "text/plain": [
       "0    1000\n",
       "1    1000\n",
       "2    1000\n",
       "3    1000\n",
       "4    1000\n",
       "5    1000\n",
       "6    1000\n",
       "Name: dx, dtype: int64"
      ]
     },
     "execution_count": 7,
     "metadata": {},
     "output_type": "execute_result"
    }
   ],
   "source": [
    "label_0 = csv[csv['dx'] == 0]\n",
    "label_1 = csv[csv['dx'] == 1]\n",
    "label_2 = csv[csv['dx'] == 2]\n",
    "label_3 = csv[csv['dx'] == 3]\n",
    "label_4 = csv[csv['dx'] == 4]\n",
    "label_5 = csv[csv['dx'] == 5]\n",
    "label_6 = csv[csv['dx'] == 6]\n",
    "\n",
    "no_of_samples = 1000\n",
    "\n",
    "label_0 = resample(label_0, replace = True, n_samples= no_of_samples)\n",
    "label_1 = resample(label_1, replace = True, n_samples= no_of_samples)\n",
    "label_2 = resample(label_2, replace = True, n_samples= no_of_samples)\n",
    "label_3 = resample(label_3, replace = True, n_samples= no_of_samples)\n",
    "label_4 = resample(label_4, replace = True, n_samples= no_of_samples)\n",
    "label_5 = resample(label_5, replace = True, n_samples= no_of_samples)\n",
    "label_6 = resample(label_6, replace = True, n_samples= no_of_samples)\n",
    "\n",
    "csv = pd.concat([label_0, label_1, label_2, label_3, label_4, label_5, label_6])\n",
    "csv['dx'].value_counts()"
   ]
  },
  {
   "cell_type": "code",
   "execution_count": 8,
   "id": "34d28a87",
   "metadata": {
    "execution": {
     "iopub.execute_input": "2023-06-16T12:58:06.434535Z",
     "iopub.status.busy": "2023-06-16T12:58:06.433721Z",
     "iopub.status.idle": "2023-06-16T12:59:42.335267Z",
     "shell.execute_reply": "2023-06-16T12:59:42.333990Z"
    },
    "papermill": {
     "duration": 95.9156,
     "end_time": "2023-06-16T12:59:42.338531",
     "exception": false,
     "start_time": "2023-06-16T12:58:06.422931",
     "status": "completed"
    },
    "tags": []
   },
   "outputs": [],
   "source": [
    "ip = {os.path.splitext(os.path.basename(x))[0] : x\n",
    "             for x in glob(os.path.join('/kaggle/input/skin-cancer-mnist-ham10000/', '*', '*.jpg'))}\n",
    "\n",
    "\n",
    "size = 32\n",
    "csv['image_path'] = csv['image_id'].map(ip.get)\n",
    "csv['rgb_value'] = csv['image_path'].map(lambda x: np.asarray(Image.open(x).resize((size, size))))"
   ]
  },
  {
   "cell_type": "code",
   "execution_count": 9,
   "id": "18d5b881",
   "metadata": {
    "execution": {
     "iopub.execute_input": "2023-06-16T12:59:42.361428Z",
     "iopub.status.busy": "2023-06-16T12:59:42.359889Z",
     "iopub.status.idle": "2023-06-16T12:59:44.052381Z",
     "shell.execute_reply": "2023-06-16T12:59:44.051146Z"
    },
    "papermill": {
     "duration": 1.706377,
     "end_time": "2023-06-16T12:59:44.055046",
     "exception": false,
     "start_time": "2023-06-16T12:59:42.348669",
     "status": "completed"
    },
    "tags": []
   },
   "outputs": [
    {
     "data": {
      "text/plain": [
       "(7000, 20, 32, 32, 3)"
      ]
     },
     "execution_count": 9,
     "metadata": {},
     "output_type": "execute_result"
    }
   ],
   "source": [
    "feature = np.asarray(csv['rgb_value'].tolist())\n",
    "feature = feature/255.0\n",
    "label = csv['dx']\n",
    "feature = np.expand_dims(feature, axis = 1)\n",
    "feature = np.repeat(feature, 20, axis = 1)\n",
    "feature.shape"
   ]
  },
  {
   "cell_type": "code",
   "execution_count": 10,
   "id": "2676430d",
   "metadata": {
    "execution": {
     "iopub.execute_input": "2023-06-16T12:59:44.076581Z",
     "iopub.status.busy": "2023-06-16T12:59:44.076059Z",
     "iopub.status.idle": "2023-06-16T12:59:46.352963Z",
     "shell.execute_reply": "2023-06-16T12:59:46.351554Z"
    },
    "papermill": {
     "duration": 2.291086,
     "end_time": "2023-06-16T12:59:46.355798",
     "exception": false,
     "start_time": "2023-06-16T12:59:44.064712",
     "status": "completed"
    },
    "tags": []
   },
   "outputs": [],
   "source": [
    "feature_train, feature_test, label_train, label_test = train_test_split(feature, label, test_size = 0.3)"
   ]
  },
  {
   "cell_type": "code",
   "execution_count": 11,
   "id": "aa93ae9d",
   "metadata": {
    "execution": {
     "iopub.execute_input": "2023-06-16T12:59:46.377087Z",
     "iopub.status.busy": "2023-06-16T12:59:46.376615Z",
     "iopub.status.idle": "2023-06-16T12:59:46.498540Z",
     "shell.execute_reply": "2023-06-16T12:59:46.497191Z"
    },
    "papermill": {
     "duration": 0.136058,
     "end_time": "2023-06-16T12:59:46.501494",
     "exception": false,
     "start_time": "2023-06-16T12:59:46.365436",
     "status": "completed"
    },
    "tags": []
   },
   "outputs": [],
   "source": [
    "model = keras.models.Sequential()"
   ]
  },
  {
   "cell_type": "code",
   "execution_count": 12,
   "id": "686d321e",
   "metadata": {
    "execution": {
     "iopub.execute_input": "2023-06-16T12:59:46.531059Z",
     "iopub.status.busy": "2023-06-16T12:59:46.530454Z",
     "iopub.status.idle": "2023-06-16T12:59:46.824555Z",
     "shell.execute_reply": "2023-06-16T12:59:46.823139Z"
    },
    "papermill": {
     "duration": 0.312213,
     "end_time": "2023-06-16T12:59:46.828170",
     "exception": false,
     "start_time": "2023-06-16T12:59:46.515957",
     "status": "completed"
    },
    "tags": []
   },
   "outputs": [],
   "source": [
    "# height = 64, width = 64, seq_length = 20\n",
    "IMAGE_HEIGHT = 32\n",
    "IMAGE_WIDTH = 32\n",
    "SEQUENCE_LENGTH = 20\n",
    "model.add(layers.ConvLSTM2D(filters = 4, kernel_size= (3, 3), activation = 'tanh', recurrent_dropout= 0.2, return_sequences= True, input_shape = (SEQUENCE_LENGTH, IMAGE_HEIGHT, IMAGE_WIDTH, 3)))\n",
    "model.add(layers.MaxPooling3D(pool_size = (1, 2, 2), padding = 'same'))"
   ]
  },
  {
   "cell_type": "code",
   "execution_count": 13,
   "id": "00bffa56",
   "metadata": {
    "execution": {
     "iopub.execute_input": "2023-06-16T12:59:46.857208Z",
     "iopub.status.busy": "2023-06-16T12:59:46.855968Z",
     "iopub.status.idle": "2023-06-16T12:59:47.048978Z",
     "shell.execute_reply": "2023-06-16T12:59:47.047631Z"
    },
    "papermill": {
     "duration": 0.209814,
     "end_time": "2023-06-16T12:59:47.052046",
     "exception": false,
     "start_time": "2023-06-16T12:59:46.842232",
     "status": "completed"
    },
    "tags": []
   },
   "outputs": [],
   "source": [
    "model.add(layers.ConvLSTM2D(filters = 8, kernel_size = (3, 3), activation= 'tanh', recurrent_dropout= 0.2, return_sequences= True))\n",
    "\n",
    "\n",
    "model.add(layers.MaxPooling3D(pool_size = (1, 2, 2), padding = 'same'))\n"
   ]
  },
  {
   "cell_type": "code",
   "execution_count": 14,
   "id": "bee615f9",
   "metadata": {
    "execution": {
     "iopub.execute_input": "2023-06-16T12:59:47.073933Z",
     "iopub.status.busy": "2023-06-16T12:59:47.072906Z",
     "iopub.status.idle": "2023-06-16T12:59:47.244774Z",
     "shell.execute_reply": "2023-06-16T12:59:47.243404Z"
    },
    "papermill": {
     "duration": 0.185523,
     "end_time": "2023-06-16T12:59:47.247399",
     "exception": false,
     "start_time": "2023-06-16T12:59:47.061876",
     "status": "completed"
    },
    "tags": []
   },
   "outputs": [],
   "source": [
    "model.add(layers.ConvLSTM2D(filters = 16, kernel_size = (3, 3), activation= 'tanh', recurrent_dropout= 0.2, return_sequences= True))\n",
    "\n",
    "\n",
    "model.add(layers.MaxPooling3D(pool_size = (1, 2, 2), padding = 'same'))"
   ]
  },
  {
   "cell_type": "code",
   "execution_count": 15,
   "id": "0c2b1ee3",
   "metadata": {
    "execution": {
     "iopub.execute_input": "2023-06-16T12:59:47.268644Z",
     "iopub.status.busy": "2023-06-16T12:59:47.268256Z",
     "iopub.status.idle": "2023-06-16T12:59:47.301576Z",
     "shell.execute_reply": "2023-06-16T12:59:47.300271Z"
    },
    "papermill": {
     "duration": 0.047038,
     "end_time": "2023-06-16T12:59:47.304444",
     "exception": false,
     "start_time": "2023-06-16T12:59:47.257406",
     "status": "completed"
    },
    "tags": []
   },
   "outputs": [],
   "source": [
    "model.add(layers.Flatten())\n",
    "\n",
    "\n",
    "model.add(layers.Dense(32, activation=  'softmax'))"
   ]
  },
  {
   "cell_type": "code",
   "execution_count": 16,
   "id": "d50b8335",
   "metadata": {
    "execution": {
     "iopub.execute_input": "2023-06-16T12:59:47.325826Z",
     "iopub.status.busy": "2023-06-16T12:59:47.324940Z",
     "iopub.status.idle": "2023-06-16T12:59:47.373335Z",
     "shell.execute_reply": "2023-06-16T12:59:47.371488Z"
    },
    "papermill": {
     "duration": 0.061578,
     "end_time": "2023-06-16T12:59:47.375621",
     "exception": false,
     "start_time": "2023-06-16T12:59:47.314043",
     "status": "completed"
    },
    "tags": []
   },
   "outputs": [
    {
     "name": "stdout",
     "output_type": "stream",
     "text": [
      "Model: \"sequential\"\n",
      "_________________________________________________________________\n",
      " Layer (type)                Output Shape              Param #   \n",
      "=================================================================\n",
      " conv_lstm2d (ConvLSTM2D)    (None, 20, 30, 30, 4)     1024      \n",
      "                                                                 \n",
      " max_pooling3d (MaxPooling3D  (None, 20, 15, 15, 4)    0         \n",
      " )                                                               \n",
      "                                                                 \n",
      " conv_lstm2d_1 (ConvLSTM2D)  (None, 20, 13, 13, 8)     3488      \n",
      "                                                                 \n",
      " max_pooling3d_1 (MaxPooling  (None, 20, 7, 7, 8)      0         \n",
      " 3D)                                                             \n",
      "                                                                 \n",
      " conv_lstm2d_2 (ConvLSTM2D)  (None, 20, 5, 5, 16)      13888     \n",
      "                                                                 \n",
      " max_pooling3d_2 (MaxPooling  (None, 20, 3, 3, 16)     0         \n",
      " 3D)                                                             \n",
      "                                                                 \n",
      " flatten (Flatten)           (None, 2880)              0         \n",
      "                                                                 \n",
      " dense (Dense)               (None, 32)                92192     \n",
      "                                                                 \n",
      "=================================================================\n",
      "Total params: 110,592\n",
      "Trainable params: 110,592\n",
      "Non-trainable params: 0\n",
      "_________________________________________________________________\n",
      "None\n"
     ]
    }
   ],
   "source": [
    "# printing summary of the CNN created so far\n",
    "print(model.summary())\n"
   ]
  },
  {
   "cell_type": "code",
   "execution_count": 17,
   "id": "412399c4",
   "metadata": {
    "execution": {
     "iopub.execute_input": "2023-06-16T12:59:47.403472Z",
     "iopub.status.busy": "2023-06-16T12:59:47.402843Z",
     "iopub.status.idle": "2023-06-16T12:59:47.409074Z",
     "shell.execute_reply": "2023-06-16T12:59:47.407931Z"
    },
    "papermill": {
     "duration": 0.023425,
     "end_time": "2023-06-16T12:59:47.411433",
     "exception": false,
     "start_time": "2023-06-16T12:59:47.388008",
     "status": "completed"
    },
    "tags": []
   },
   "outputs": [],
   "source": [
    "# calculating loss with 'SparseCatergoricalCrossEntropy'\n",
    "# it computes loss between labels and predictions\n",
    "loss = keras.losses.SparseCategoricalCrossentropy(from_logits=True)"
   ]
  },
  {
   "cell_type": "code",
   "execution_count": 18,
   "id": "7964cb76",
   "metadata": {
    "execution": {
     "iopub.execute_input": "2023-06-16T12:59:47.438369Z",
     "iopub.status.busy": "2023-06-16T12:59:47.437807Z",
     "iopub.status.idle": "2023-06-16T12:59:47.444802Z",
     "shell.execute_reply": "2023-06-16T12:59:47.443307Z"
    },
    "papermill": {
     "duration": 0.023821,
     "end_time": "2023-06-16T12:59:47.447496",
     "exception": false,
     "start_time": "2023-06-16T12:59:47.423675",
     "status": "completed"
    },
    "tags": []
   },
   "outputs": [],
   "source": [
    "# using optimizer that implements Adam's algorithm\n",
    "# we have 'accuracy' as our metric that we calculate\n",
    "optim = keras.optimizers.Adam(learning_rate = 0.005)\n",
    "metrics = ['accuracy']"
   ]
  },
  {
   "cell_type": "code",
   "execution_count": 19,
   "id": "40001a2c",
   "metadata": {
    "execution": {
     "iopub.execute_input": "2023-06-16T12:59:47.474646Z",
     "iopub.status.busy": "2023-06-16T12:59:47.474133Z",
     "iopub.status.idle": "2023-06-16T12:59:47.495784Z",
     "shell.execute_reply": "2023-06-16T12:59:47.494849Z"
    },
    "papermill": {
     "duration": 0.03844,
     "end_time": "2023-06-16T12:59:47.498406",
     "exception": false,
     "start_time": "2023-06-16T12:59:47.459966",
     "status": "completed"
    },
    "tags": []
   },
   "outputs": [],
   "source": [
    "# here we compile the model with parameters such as:\n",
    "# optimizer, loss and metrics\n",
    "model.compile(optimizer = optim, loss = loss, metrics= metrics)"
   ]
  },
  {
   "cell_type": "code",
   "execution_count": 20,
   "id": "10c3a3c0",
   "metadata": {
    "execution": {
     "iopub.execute_input": "2023-06-16T12:59:47.528143Z",
     "iopub.status.busy": "2023-06-16T12:59:47.527359Z",
     "iopub.status.idle": "2023-06-16T12:59:47.533307Z",
     "shell.execute_reply": "2023-06-16T12:59:47.532265Z"
    },
    "papermill": {
     "duration": 0.025692,
     "end_time": "2023-06-16T12:59:47.536161",
     "exception": false,
     "start_time": "2023-06-16T12:59:47.510469",
     "status": "completed"
    },
    "tags": []
   },
   "outputs": [],
   "source": [
    "\n",
    "# specifying 'batch size' and 'epoch'\n",
    "batch_size = 128\n",
    "epoch = 8"
   ]
  },
  {
   "cell_type": "code",
   "execution_count": 21,
   "id": "d19fcc49",
   "metadata": {
    "execution": {
     "iopub.execute_input": "2023-06-16T12:59:47.564058Z",
     "iopub.status.busy": "2023-06-16T12:59:47.562629Z",
     "iopub.status.idle": "2023-06-16T13:35:22.525269Z",
     "shell.execute_reply": "2023-06-16T13:35:22.523784Z"
    },
    "papermill": {
     "duration": 2134.979756,
     "end_time": "2023-06-16T13:35:22.528527",
     "exception": false,
     "start_time": "2023-06-16T12:59:47.548771",
     "status": "completed"
    },
    "tags": []
   },
   "outputs": [
    {
     "name": "stdout",
     "output_type": "stream",
     "text": [
      "Epoch 1/8\n"
     ]
    },
    {
     "name": "stderr",
     "output_type": "stream",
     "text": [
      "/opt/conda/lib/python3.10/site-packages/keras/backend.py:5612: UserWarning: \"`sparse_categorical_crossentropy` received `from_logits=True`, but the `output` argument was produced by a Softmax activation and thus does not represent logits. Was this intended?\n",
      "  output, from_logits = _get_logits(\n"
     ]
    },
    {
     "name": "stdout",
     "output_type": "stream",
     "text": [
      "39/39 [==============================] - 269s 7s/step - loss: 2.0773 - accuracy: 0.1573\n",
      "Epoch 2/8\n",
      "39/39 [==============================] - 260s 7s/step - loss: 1.8090 - accuracy: 0.2335\n",
      "Epoch 3/8\n",
      "39/39 [==============================] - 261s 7s/step - loss: 1.6644 - accuracy: 0.3253\n",
      "Epoch 4/8\n",
      "39/39 [==============================] - 260s 7s/step - loss: 1.5380 - accuracy: 0.3943\n",
      "Epoch 5/8\n",
      "39/39 [==============================] - 258s 7s/step - loss: 1.4524 - accuracy: 0.4227\n",
      "Epoch 6/8\n",
      "39/39 [==============================] - 254s 7s/step - loss: 1.3012 - accuracy: 0.5029\n",
      "Epoch 7/8\n",
      "39/39 [==============================] - 264s 7s/step - loss: 1.2713 - accuracy: 0.5200\n",
      "Epoch 8/8\n",
      "39/39 [==============================] - 268s 7s/step - loss: 1.1798 - accuracy: 0.5512\n"
     ]
    }
   ],
   "source": [
    "\n",
    "# training the model using 'fit' function passing:\n",
    "# training images and labels, epochs, batch size and verbose\n",
    "mod = model.fit(feature_train, label_train, epochs = epoch, batch_size = batch_size, verbose = 1)"
   ]
  },
  {
   "cell_type": "code",
   "execution_count": 22,
   "id": "3a4b290d",
   "metadata": {
    "execution": {
     "iopub.execute_input": "2023-06-16T13:35:22.617070Z",
     "iopub.status.busy": "2023-06-16T13:35:22.616620Z",
     "iopub.status.idle": "2023-06-16T13:35:53.143390Z",
     "shell.execute_reply": "2023-06-16T13:35:53.142508Z"
    },
    "papermill": {
     "duration": 30.612904,
     "end_time": "2023-06-16T13:35:53.184498",
     "exception": false,
     "start_time": "2023-06-16T13:35:22.571594",
     "status": "completed"
    },
    "tags": []
   },
   "outputs": [
    {
     "name": "stdout",
     "output_type": "stream",
     "text": [
      "17/17 [==============================] - 29s 2s/step - loss: 1.2023 - accuracy: 0.5390\n"
     ]
    }
   ],
   "source": [
    "\n",
    "mod = model.evaluate(feature_test, label_test, batch_size = batch_size, verbose = 1)"
   ]
  }
 ],
 "metadata": {
  "kernelspec": {
   "display_name": "Python 3",
   "language": "python",
   "name": "python3"
  },
  "language_info": {
   "codemirror_mode": {
    "name": "ipython",
    "version": 3
   },
   "file_extension": ".py",
   "mimetype": "text/x-python",
   "name": "python",
   "nbconvert_exporter": "python",
   "pygments_lexer": "ipython3",
   "version": "3.10.10"
  },
  "papermill": {
   "default_parameters": {},
   "duration": 2296.422151,
   "end_time": "2023-06-16T13:35:56.688084",
   "environment_variables": {},
   "exception": null,
   "input_path": "__notebook__.ipynb",
   "output_path": "__notebook__.ipynb",
   "parameters": {},
   "start_time": "2023-06-16T12:57:40.265933",
   "version": "2.4.0"
  }
 },
 "nbformat": 4,
 "nbformat_minor": 5
}
